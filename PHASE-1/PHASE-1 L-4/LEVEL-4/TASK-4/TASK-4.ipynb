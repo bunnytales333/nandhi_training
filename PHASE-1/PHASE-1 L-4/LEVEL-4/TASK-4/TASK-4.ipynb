{
 "cells": [
  {
   "cell_type": "code",
   "execution_count": null,
   "metadata": {},
   "outputs": [],
   "source": [
    "import logging\n",
    "logging.basicConfig(\n",
    "    filename=\"app.log\",  \n",
    "    level=logging.INFO,  \n",
    "    format=\"%(asctime)s - %(levelname)s - %(message)s\",  \n",
    ")\n",
    "logging.info(\"Script has started.\")\n",
    "def perform_task():\n",
    "    logging.info(\"Task is being executed.\")\n",
    "    result = sum(range(10))  \n",
    "    logging.info(\"Task completed successfully.\")\n",
    "perform_task()\n",
    "logging.info(\"Script execution completed.\")\n"
   ]
  }
 ],
 "metadata": {
  "kernelspec": {
   "display_name": "Python 3",
   "language": "python",
   "name": "python3"
  },
  "language_info": {
   "codemirror_mode": {
    "name": "ipython",
    "version": 3
   },
   "file_extension": ".py",
   "mimetype": "text/x-python",
   "name": "python",
   "nbconvert_exporter": "python",
   "pygments_lexer": "ipython3",
   "version": "3.12.5"
  }
 },
 "nbformat": 4,
 "nbformat_minor": 2
}
