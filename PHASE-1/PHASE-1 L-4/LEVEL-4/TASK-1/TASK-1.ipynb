{
 "cells": [
  {
   "cell_type": "code",
   "execution_count": null,
   "metadata": {},
   "outputs": [
    {
     "name": "stdout",
     "output_type": "stream",
     "text": [
      "   Id     Location  Bedrooms  Bathrooms  Square_Feet  Year_Built   Price\n",
      "0   1     New York         3          2         1500        2000  500000\n",
      "1   2  Los Angeles         4          3         2000        1995  750000\n",
      "2   3      Chicago         2          1         1200        2010  300000\n",
      "3   4      Houston         5          4         2500        1985  900000\n",
      "4   5      Phoenix         3          2         1600        2005  450000\n"
     ]
    }
   ],
   "source": [
    "import pandas as pd\n",
    "df = pd.read_csv(\"house_prices.csv\")\n",
    "print(df.head())\n"
   ]
  },
  {
   "cell_type": "code",
   "execution_count": null,
   "metadata": {},
   "outputs": [
    {
     "name": "stdout",
     "output_type": "stream",
     "text": [
      "Dataset Shape: (10, 7)\n",
      "Column Names: Index(['Id', 'Location', 'Bedrooms', 'Bathrooms', 'Square_Feet', 'Year_Built',\n",
      "       'Price'],\n",
      "      dtype='object')\n",
      "<class 'pandas.core.frame.DataFrame'>\n",
      "RangeIndex: 10 entries, 0 to 9\n",
      "Data columns (total 7 columns):\n",
      " #   Column       Non-Null Count  Dtype \n",
      "---  ------       --------------  ----- \n",
      " 0   Id           10 non-null     int64 \n",
      " 1   Location     10 non-null     object\n",
      " 2   Bedrooms     10 non-null     int64 \n",
      " 3   Bathrooms    10 non-null     int64 \n",
      " 4   Square_Feet  10 non-null     int64 \n",
      " 5   Year_Built   10 non-null     int64 \n",
      " 6   Price        10 non-null     int64 \n",
      "dtypes: int64(6), object(1)\n",
      "memory usage: 692.0+ bytes\n",
      "None\n",
      "             Id   Bedrooms  Bathrooms  Square_Feet   Year_Built          Price\n",
      "count  10.00000  10.000000  10.000000    10.000000    10.000000      10.000000\n",
      "mean    5.50000   3.500000   2.500000  1850.000000  1999.800000  603000.000000\n",
      "std     3.02765   1.080123   1.080123   514.781507    12.925427  235374.406236\n",
      "min     1.00000   2.000000   1.000000  1100.000000  1980.000000  280000.000000\n",
      "25%     3.25000   3.000000   2.000000  1525.000000  1991.250000  457500.000000\n",
      "50%     5.50000   3.500000   2.500000  1850.000000  1999.000000  600000.000000\n",
      "75%     7.75000   4.000000   3.000000  2175.000000  2008.750000  742500.000000\n",
      "max    10.00000   5.000000   4.000000  2600.000000  2020.000000  950000.000000\n",
      "Id             0\n",
      "Location       0\n",
      "Bedrooms       0\n",
      "Bathrooms      0\n",
      "Square_Feet    0\n",
      "Year_Built     0\n",
      "Price          0\n",
      "dtype: int64\n"
     ]
    }
   ],
   "source": [
    "print(\"Dataset Shape:\", df.shape)\n",
    "print(\"Column Names:\", df.columns)\n",
    "print(df.info())\n",
    "print(df.describe())\n",
    "print(df.isnull().sum())\n"
   ]
  }
 ],
 "metadata": {
  "kernelspec": {
   "display_name": "Python 3",
   "language": "python",
   "name": "python3"
  },
  "language_info": {
   "codemirror_mode": {
    "name": "ipython",
    "version": 3
   },
   "file_extension": ".py",
   "mimetype": "text/x-python",
   "name": "python",
   "nbconvert_exporter": "python",
   "pygments_lexer": "ipython3",
   "version": "3.12.5"
  }
 },
 "nbformat": 4,
 "nbformat_minor": 2
}
