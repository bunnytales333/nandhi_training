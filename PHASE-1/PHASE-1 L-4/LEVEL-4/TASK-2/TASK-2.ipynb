{
 "cells": [
  {
   "cell_type": "code",
   "execution_count": null,
   "metadata": {},
   "outputs": [
    {
     "name": "stdout",
     "output_type": "stream",
     "text": [
      "   Id     Location  Bedrooms  Bathrooms  Square_Feet  Year_Built   Price  \\\n",
      "0   1     New York         3          2         1500        2000  500000   \n",
      "1   2  Los Angeles         4          3         2000        1995  750000   \n",
      "2   3      Chicago         2          1         1200        2010  300000   \n",
      "3   4      Houston         5          4         2500        1985  900000   \n",
      "4   5      Phoenix         3          2         1600        2005  450000   \n",
      "\n",
      "   Price_per_SqFt  \n",
      "0      333.333333  \n",
      "1      375.000000  \n",
      "2      250.000000  \n",
      "3      360.000000  \n",
      "4      281.250000  \n"
     ]
    }
   ],
   "source": [
    "import pandas as pd\n",
    "df = pd.read_csv(\"house_prices.csv\")\n",
    "df[\"Price_per_SqFt\"] = df[\"Price\"] / df[\"Square_Feet\"]\n",
    "print(df.head())\n",
    "df.to_csv(\"house_prices_updated.csv\", index=False)\n"
   ]
  }
 ],
 "metadata": {
  "kernelspec": {
   "display_name": "Python 3",
   "language": "python",
   "name": "python3"
  },
  "language_info": {
   "codemirror_mode": {
    "name": "ipython",
    "version": 3
   },
   "file_extension": ".py",
   "mimetype": "text/x-python",
   "name": "python",
   "nbconvert_exporter": "python",
   "pygments_lexer": "ipython3",
   "version": "3.12.5"
  }
 },
 "nbformat": 4,
 "nbformat_minor": 2
}
