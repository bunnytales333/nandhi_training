{
 "cells": [
  {
   "cell_type": "code",
   "execution_count": 4,
   "metadata": {},
   "outputs": [
    {
     "name": "stdout",
     "output_type": "stream",
     "text": [
      "Variance: 8\n",
      "Standard Deviation: 2.828\n"
     ]
    }
   ],
   "source": [
    "import statistics  \n",
    "data = [2, 4, 6, 8, 10]   \n",
    "variance_value = statistics.pvariance(data)  \n",
    "std_dev_value = statistics.pstdev(data)  \n",
    "\n",
    "print(\"Variance:\", variance_value)  \n",
    "print(\"Standard Deviation:\", round(std_dev_value, 3))  \n"
   ]
  }
 ],
 "metadata": {
  "kernelspec": {
   "display_name": "Python 3",
   "language": "python",
   "name": "python3"
  },
  "language_info": {
   "codemirror_mode": {
    "name": "ipython",
    "version": 3
   },
   "file_extension": ".py",
   "mimetype": "text/x-python",
   "name": "python",
   "nbconvert_exporter": "python",
   "pygments_lexer": "ipython3",
   "version": "3.13.2"
  }
 },
 "nbformat": 4,
 "nbformat_minor": 2
}
