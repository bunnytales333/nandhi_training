{
 "cells": [
  {
   "cell_type": "code",
   "execution_count": 1,
   "metadata": {},
   "outputs": [
    {
     "name": "stdout",
     "output_type": "stream",
     "text": [
      "Z-Scores: [-1.17 -0.97 -0.77 -0.57 -0.36 -0.16  0.04  0.24  0.44  0.64  2.64]\n",
      "No outliers detected; all z-scores are below 3.\n"
     ]
    }
   ],
   "source": [
    "import numpy as np   \n",
    "data = np.array([1, 2, 3, 4, 5, 6, 7, 8, 9, 10, 20])\n",
    "mean_value = np.mean(data)  \n",
    "std_dev_value = np.std(data)   \n",
    "z_scores = (data - mean_value) / std_dev_value  \n",
    "outliers = []  \n",
    "for i in range(len(data)):  \n",
    "    if abs(z_scores[i]) > 3:  \n",
    "        outliers.append(data[i])  \n",
    "print(\"Z-Scores:\", z_scores.round(2))  \n",
    "if outliers:  \n",
    "    print(\"Outliers detected:\", outliers)  \n",
    "else:  \n",
    "    print(\"No outliers detected; all z-scores are below 3.\")  \n"
   ]
  }
 ],
 "metadata": {
  "kernelspec": {
   "display_name": "Python 3",
   "language": "python",
   "name": "python3"
  },
  "language_info": {
   "codemirror_mode": {
    "name": "ipython",
    "version": 3
   },
   "file_extension": ".py",
   "mimetype": "text/x-python",
   "name": "python",
   "nbconvert_exporter": "python",
   "pygments_lexer": "ipython3",
   "version": "3.13.2"
  }
 },
 "nbformat": 4,
 "nbformat_minor": 2
}
