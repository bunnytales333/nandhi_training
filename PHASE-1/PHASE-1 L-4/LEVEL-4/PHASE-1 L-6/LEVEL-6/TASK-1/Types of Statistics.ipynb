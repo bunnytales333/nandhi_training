{
 "cells": [
  {
   "cell_type": "code",
   "execution_count": 3,
   "metadata": {},
   "outputs": [
    {
     "name": "stdout",
     "output_type": "stream",
     "text": [
      "Descriptive Statistics:\n",
      "Mean Score: 86.30\n",
      "Median Score: 87.50\n",
      "Standard Deviation: 5.81\n",
      "\n",
      "Inferential Statistics:\n",
      "95% Confidence Interval: (82.14, 90.46)\n"
     ]
    }
   ],
   "source": [
    "import numpy as np\n",
    "from scipy import stats\n",
    "\n",
    "data = [78, 85, 90, 88, 76, 95, 89, 84, 91, 87]\n",
    "mean_score = np.mean(data)\n",
    "median_score = np.median(data)\n",
    "std_dev = np.std(data, ddof=1) \n",
    "\n",
    "print(\"Descriptive Statistics:\")\n",
    "print(f\"Mean Score: {mean_score:.2f}\")\n",
    "print(f\"Median Score: {median_score:.2f}\")\n",
    "print(f\"Standard Deviation: {std_dev:.2f}\")\n",
    "\n",
    "confidence_interval = stats.t.interval(0.95, df=len(data)-1, loc=mean_score, scale=stats.sem(data))\n",
    "\n",
    "print(\"\\nInferential Statistics:\")\n",
    "print(f\"95% Confidence Interval: ({confidence_interval[0]:.2f}, {confidence_interval[1]:.2f})\")\n"
   ]
  }
 ],
 "metadata": {
  "kernelspec": {
   "display_name": "Python 3",
   "language": "python",
   "name": "python3"
  },
  "language_info": {
   "codemirror_mode": {
    "name": "ipython",
    "version": 3
   },
   "file_extension": ".py",
   "mimetype": "text/x-python",
   "name": "python",
   "nbconvert_exporter": "python",
   "pygments_lexer": "ipython3",
   "version": "3.13.2"
  }
 },
 "nbformat": 4,
 "nbformat_minor": 2
}
