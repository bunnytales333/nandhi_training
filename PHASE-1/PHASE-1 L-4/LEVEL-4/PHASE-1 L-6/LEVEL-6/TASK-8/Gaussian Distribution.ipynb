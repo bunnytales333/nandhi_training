{
 "cells": [
  {
   "cell_type": "code",
   "execution_count": 1,
   "metadata": {},
   "outputs": [
    {
     "name": "stdout",
     "output_type": "stream",
     "text": [
      "Approximately 68% of the data lies between 85 and 115.\n"
     ]
    }
   ],
   "source": [
    "mean = 100\n",
    "std_dev = 15\n",
    "percentage_within_1_std_dev = 68 \n",
    "print(f\"Approximately {percentage_within_1_std_dev}% of the data lies between 85 and 115.\")\n"
   ]
  }
 ],
 "metadata": {
  "kernelspec": {
   "display_name": "Python 3",
   "language": "python",
   "name": "python3"
  },
  "language_info": {
   "codemirror_mode": {
    "name": "ipython",
    "version": 3
   },
   "file_extension": ".py",
   "mimetype": "text/x-python",
   "name": "python",
   "nbconvert_exporter": "python",
   "pygments_lexer": "ipython3",
   "version": "3.13.2"
  }
 },
 "nbformat": 4,
 "nbformat_minor": 2
}
