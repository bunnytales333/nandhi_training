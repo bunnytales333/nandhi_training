{
 "cells": [
  {
   "cell_type": "code",
   "execution_count": 1,
   "metadata": {},
   "outputs": [
    {
     "name": "stdout",
     "output_type": "stream",
     "text": [
      "Approximately 40% of scores fall above 4.25.\n"
     ]
    }
   ],
   "source": [
    "from scipy.stats import norm  \n",
    "mean = 4  \n",
    "std_dev = 1  \n",
    "x_value = 4.25   \n",
    "z_score = (x_value - mean) / std_dev   \n",
    "percentage_above_4_25 = norm.sf(z_score) * 100  \n",
    "print(f\"Approximately {round(percentage_above_4_25)}% of scores fall above 4.25.\")  \n"
   ]
  }
 ],
 "metadata": {
  "kernelspec": {
   "display_name": "Python 3",
   "language": "python",
   "name": "python3"
  },
  "language_info": {
   "codemirror_mode": {
    "name": "ipython",
    "version": 3
   },
   "file_extension": ".py",
   "mimetype": "text/x-python",
   "name": "python",
   "nbconvert_exporter": "python",
   "pygments_lexer": "ipython3",
   "version": "3.13.2"
  }
 },
 "nbformat": 4,
 "nbformat_minor": 2
}
