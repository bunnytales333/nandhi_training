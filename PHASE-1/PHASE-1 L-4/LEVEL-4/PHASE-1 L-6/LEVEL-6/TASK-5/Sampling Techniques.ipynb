{
 "cells": [
  {
   "cell_type": "code",
   "execution_count": 1,
   "metadata": {},
   "outputs": [
    {
     "name": "stdout",
     "output_type": "stream",
     "text": [
      "Selected Sampling Technique: Stratified sampling\n",
      "Justification: It ensures each department is fairly represented based on its size.\n"
     ]
    }
   ],
   "source": [
    "def sampling_technique():\n",
    "    technique = \"Stratified sampling\"\n",
    "    justification = \"It ensures each department is fairly represented based on its size.\"\n",
    "    \n",
    "    print(\"Selected Sampling Technique:\", technique)\n",
    "    print(\"Justification:\", justification)\n",
    "\n",
    "sampling_technique()\n"
   ]
  },
  {
   "cell_type": "code",
   "execution_count": 3,
   "metadata": {},
   "outputs": [
    {
     "name": "stdout",
     "output_type": "stream",
     "text": [
      "Selected Employees for Survey:\n",
      "     Employee_ID Department\n",
      "1             2         HR\n",
      "4             5         HR\n",
      "6             7         IT\n",
      "10           11         IT\n",
      "5             6         IT\n",
      "13           14      Sales\n",
      "14           15      Sales\n"
     ]
    },
    {
     "name": "stderr",
     "output_type": "stream",
     "text": [
      "C:\\Users\\Dell\\AppData\\Local\\Temp\\ipykernel_12504\\1951722447.py:13: DeprecationWarning: DataFrameGroupBy.apply operated on the grouping columns. This behavior is deprecated, and in a future version of pandas the grouping columns will be excluded from the operation. Either pass `include_groups=False` to exclude the groupings or explicitly select the grouping columns after groupby to silence this warning.\n",
      "  stratified_sample = df.groupby(\"Department\", group_keys=False).apply(\n"
     ]
    }
   ],
   "source": [
    "import pandas as pd\n",
    "import random\n",
    "data = {\n",
    "    \"Employee_ID\": list(range(1, 21)), \n",
    "    \"Department\": [\"HR\"] * 5 + [\"IT\"] * 8 + [\"Sales\"] * 7 }\n",
    "\n",
    "df = pd.DataFrame(data)\n",
    "sample_size = {\n",
    "    \"HR\": 2, \n",
    "    \"IT\": 3,   \n",
    "    \"Sales\": 2 }\n",
    "\n",
    "stratified_sample = df.groupby(\"Department\", group_keys=False).apply(\n",
    "    lambda x: x.sample(n=sample_size[x.name], random_state=42))\n",
    "print(\"Selected Employees for Survey:\\n\", stratified_sample)\n"
   ]
  }
 ],
 "metadata": {
  "kernelspec": {
   "display_name": "Python 3",
   "language": "python",
   "name": "python3"
  },
  "language_info": {
   "codemirror_mode": {
    "name": "ipython",
    "version": 3
   },
   "file_extension": ".py",
   "mimetype": "text/x-python",
   "name": "python",
   "nbconvert_exporter": "python",
   "pygments_lexer": "ipython3",
   "version": "3.13.2"
  }
 },
 "nbformat": 4,
 "nbformat_minor": 2
}
