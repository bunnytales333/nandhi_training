{
 "cells": [
  {
   "cell_type": "code",
   "execution_count": null,
   "metadata": {},
   "outputs": [
    {
     "name": "stdout",
     "output_type": "stream",
     "text": [
      "Income of ₹5000 from Salary added.\n",
      "Income of ₹2000 from Freelance Work added.\n",
      "Expense of ₹1500 for Groceries added.\n",
      "Expense of ₹800 for Electricity Bill added.\n",
      "\n",
      "--- Budget Summary ---\n",
      "Total Income: ₹7000\n",
      "Total Expenses: ₹2300\n",
      "Balance: ₹4700\n",
      "----------------------\n"
     ]
    }
   ],
   "source": [
    "class BudgetTracker:\n",
    "    def __init__(self):\n",
    "        self.transactions = []\n",
    "\n",
    "    def add_income(self, amount, source):\n",
    "        self.transactions.append({\"type\": \"Income\", \"amount\": amount, \"source\": source})\n",
    "        print(f\"Income of ₹{amount} from {source} added.\")\n",
    "\n",
    "    def add_expense(self, amount, category):\n",
    "        self.transactions.append({\"type\": \"Expense\", \"amount\": amount, \"category\": category})\n",
    "        print(f\"Expense of ₹{amount} for {category} added.\")\n",
    "\n",
    "    def get_summary(self):\n",
    "        total_income = sum(t[\"amount\"] for t in self.transactions if t[\"type\"] == \"Income\")\n",
    "        total_expense = sum(t[\"amount\"] for t in self.transactions if t[\"type\"] == \"Expense\")\n",
    "        balance = total_income - total_expense\n",
    "\n",
    "        print(\"\\n--- Budget Summary ---\")\n",
    "        print(f\"Total Income: ₹{total_income}\")\n",
    "        print(f\"Total Expenses: ₹{total_expense}\")\n",
    "        print(f\"Balance: ₹{balance}\")\n",
    "        print(\"----------------------\")\n",
    "if __name__ == \"__main__\":\n",
    "    tracker = BudgetTracker()\n",
    "    tracker.add_income(5000, \"Salary\")\n",
    "    tracker.add_income(2000, \"Freelance Work\")\n",
    "    tracker.add_expense(1500, \"Groceries\")\n",
    "    tracker.add_expense(800, \"Electricity Bill\")\n",
    "    tracker.get_summary()\n"
   ]
  }
 ],
 "metadata": {
  "kernelspec": {
   "display_name": "Python 3",
   "language": "python",
   "name": "python3"
  },
  "language_info": {
   "codemirror_mode": {
    "name": "ipython",
    "version": 3
   },
   "file_extension": ".py",
   "mimetype": "text/x-python",
   "name": "python",
   "nbconvert_exporter": "python",
   "pygments_lexer": "ipython3",
   "version": "3.12.5"
  }
 },
 "nbformat": 4,
 "nbformat_minor": 2
}
