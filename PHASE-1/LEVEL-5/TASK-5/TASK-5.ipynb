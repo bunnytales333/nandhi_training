{
 "cells": [
  {
   "cell_type": "code",
   "execution_count": 2,
   "metadata": {},
   "outputs": [],
   "source": [
    "\n",
    "import pandas as pd\n",
    "data1 = pd.DataFrame({\"ID\": [1, 2, 3, 4, 5], \"Value\": [50, 60, 55, 70, 65]})\n",
    "data2 = pd.DataFrame({\"ID\": [1, 2, 3, 4, 5], \"Value\": [80, 85, 90, 75, 95]})\n",
    "\n",
    "data1.to_csv(\"data1.csv\", index=False)\n",
    "data2.to_csv(\"data2.csv\", index=False)\n"
   ]
  },
  {
   "cell_type": "code",
   "execution_count": 1,
   "metadata": {},
   "outputs": [
    {
     "name": "stdout",
     "output_type": "stream",
     "text": [
      "Processed means: Mean1: 60.0, Mean2: 85.0\n"
     ]
    }
   ],
   "source": [
    "import threading\n",
    "import pandas as pd\n",
    "import logging\n",
    "\n",
    "logging.basicConfig(filename=\"processing.log\", level=logging.INFO, format=\"%(asctime)s - %(message)s\")\n",
    "\n",
    "def process_file(filename, results, key):\n",
    "    logging.info(f\"Processing {filename} started\")\n",
    "    results[key] = pd.read_csv(filename)[\"Value\"].mean()\n",
    "    logging.info(f\"Processing {filename} finished - Mean: {results[key]}\")\n",
    "\n",
    "results = {}\n",
    "threads = [\n",
    "    threading.Thread(target=process_file, args=(\"data1.csv\", results, \"Mean1\")),\n",
    "    threading.Thread(target=process_file, args=(\"data2.csv\", results, \"Mean2\")),]\n",
    "\n",
    "for thread in threads:\n",
    "    thread.start()\n",
    "for thread in threads:\n",
    "    thread.join()\n",
    "\n",
    "print(f\"Processed means: Mean1: {results['Mean1']}, Mean2: {results['Mean2']}\")\n"
   ]
  }
 ],
 "metadata": {
  "kernelspec": {
   "display_name": "Python 3",
   "language": "python",
   "name": "python3"
  },
  "language_info": {
   "codemirror_mode": {
    "name": "ipython",
    "version": 3
   },
   "file_extension": ".py",
   "mimetype": "text/x-python",
   "name": "python",
   "nbconvert_exporter": "python",
   "pygments_lexer": "ipython3",
   "version": "3.13.2"
  }
 },
 "nbformat": 4,
 "nbformat_minor": 2
}
