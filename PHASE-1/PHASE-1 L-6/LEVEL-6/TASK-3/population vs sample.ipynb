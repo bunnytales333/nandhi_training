{
 "cells": [
  {
   "cell_type": "code",
   "execution_count": null,
   "metadata": {},
   "outputs": [
    {
     "name": "stdout",
     "output_type": "stream",
     "text": [
      "Scenario: A researcher studies the average income of families in a city by surveying 100 households.\n",
      "\n",
      "Population: All families in the city.\n",
      "Sample: 100 surveyed households.\n"
     ]
    }
   ],
   "source": [
    "def identify_population_sample():\n",
    "    print(\"Scenario: A researcher studies the average income of families in a city by surveying 100 households.\\n\")\n",
    "    \n",
    "    population = \"All families in the city.\"\n",
    "    sample = \"100 surveyed households.\"\n",
    "    \n",
    "    print(f\"Population: {population}\")\n",
    "    print(f\"Sample: {sample}\")\n",
    "\n",
    "identify_population_sample()\n"
   ]
  }
 ],
 "metadata": {
  "kernelspec": {
   "display_name": "Python 3",
   "language": "python",
   "name": "python3"
  },
  "language_info": {
   "codemirror_mode": {
    "name": "ipython",
    "version": 3
   },
   "file_extension": ".py",
   "mimetype": "text/x-python",
   "name": "python",
   "nbconvert_exporter": "python",
   "pygments_lexer": "ipython3",
   "version": "3.13.2"
  }
 },
 "nbformat": 4,
 "nbformat_minor": 2
}
