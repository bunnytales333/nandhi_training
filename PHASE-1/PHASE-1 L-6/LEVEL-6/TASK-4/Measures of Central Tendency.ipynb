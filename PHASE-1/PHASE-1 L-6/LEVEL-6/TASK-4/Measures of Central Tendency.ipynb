{
 "cells": [
  {
   "cell_type": "code",
   "execution_count": null,
   "metadata": {},
   "outputs": [
    {
     "name": "stdout",
     "output_type": "stream",
     "text": [
      "Mean: 21\n",
      "Median: 5.5\n",
      "Mode: 5\n"
     ]
    }
   ],
   "source": [
    "import statistics  \n",
    "data = [3, 5, 5, 6, 7, 100]  \n",
    "mean_value = statistics.mean(data)  \n",
    "median_value = statistics.median(data)  \n",
    "mode_value = statistics.mode(data)  \n",
    "print(\"Mean:\", mean_value)  \n",
    "print(\"Median:\", median_value)  \n",
    "print(\"Mode:\", mode_value)  \n"
   ]
  }
 ],
 "metadata": {
  "kernelspec": {
   "display_name": "Python 3",
   "language": "python",
   "name": "python3"
  },
  "language_info": {
   "codemirror_mode": {
    "name": "ipython",
    "version": 3
   },
   "file_extension": ".py",
   "mimetype": "text/x-python",
   "name": "python",
   "nbconvert_exporter": "python",
   "pygments_lexer": "ipython3",
   "version": "3.13.2"
  }
 },
 "nbformat": 4,
 "nbformat_minor": 2
}
