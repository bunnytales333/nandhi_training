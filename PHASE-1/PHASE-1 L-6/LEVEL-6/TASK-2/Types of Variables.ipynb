{
 "cells": [
  {
   "cell_type": "code",
   "execution_count": 7,
   "metadata": {},
   "outputs": [
    {
     "name": "stdout",
     "output_type": "stream",
     "text": [
      "Number of pets: Quantitative (discrete)\n",
      "Blood type: Qualitative\n",
      "Weight in kg: Quantitative (continuous)\n",
      "Satisfaction level: Qualitative\n"
     ]
    }
   ],
   "source": [
    "def classify_variable(name, value):\n",
    "    if type(value) == int:  \n",
    "        return f\"{name}: Quantitative (discrete)\"  \n",
    "    elif type(value) == float:  \n",
    "        return f\"{name}: Quantitative (continuous)\"  \n",
    "    else:  \n",
    "        return f\"{name}: Qualitative\"  \n",
    "variables = {\n",
    "    \"Number of pets\": 3,  \n",
    "    \"Blood type\": \"A\",  \n",
    "    \"Weight in kg\": 72.5,  \n",
    "    \"Satisfaction level\": \"High\"}\n",
    "for name, value in variables.items():\n",
    "    print(classify_variable(name, value))\n"
   ]
  }
 ],
 "metadata": {
  "kernelspec": {
   "display_name": "Python 3",
   "language": "python",
   "name": "python3"
  },
  "language_info": {
   "codemirror_mode": {
    "name": "ipython",
    "version": 3
   },
   "file_extension": ".py",
   "mimetype": "text/x-python",
   "name": "python",
   "nbconvert_exporter": "python",
   "pygments_lexer": "ipython3",
   "version": "3.13.2"
  }
 },
 "nbformat": 4,
 "nbformat_minor": 2
}
