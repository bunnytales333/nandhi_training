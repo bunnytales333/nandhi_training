{
 "cells": [
  {
   "cell_type": "code",
   "execution_count": 13,
   "metadata": {},
   "outputs": [
    {
     "name": "stdout",
     "output_type": "stream",
     "text": [
      "Z-Scores: [-1.46, -0.88, -0.29, 0.29, 0.88, 1.46]\n",
      "The z-score for 5 is ~0.29, meaning its 0.29 standard deviations above the mean.\n"
     ]
    }
   ],
   "source": [
    "import numpy as np  \n",
    "data = np.array([2, 3, 4, 5, 6, 7])    \n",
    "mean_value = np.mean(data)  \n",
    "std_dev_value = np.std(data, ddof=0)  \n",
    "z_scores = (data - mean_value) / std_dev_value   \n",
    "z_score_5 = (5 - mean_value) / std_dev_value  \n",
    "print(\"Z-Scores:\", z_scores.round(2).tolist())  \n",
    "print(f\"The z-score for 5 is ~{round(z_score_5, 2)}, meaning its {round(z_score_5, 2)} standard deviations above the mean.\")  \n"
   ]
  }
 ],
 "metadata": {
  "kernelspec": {
   "display_name": "Python 3",
   "language": "python",
   "name": "python3"
  },
  "language_info": {
   "codemirror_mode": {
    "name": "ipython",
    "version": 3
   },
   "file_extension": ".py",
   "mimetype": "text/x-python",
   "name": "python",
   "nbconvert_exporter": "python",
   "pygments_lexer": "ipython3",
   "version": "3.13.2"
  }
 },
 "nbformat": 4,
 "nbformat_minor": 2
}
