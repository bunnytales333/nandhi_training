{
 "cells": [
  {
   "cell_type": "code",
   "execution_count": 1,
   "metadata": {},
   "outputs": [
    {
     "name": "stdout",
     "output_type": "stream",
     "text": [
      "Covariance between X and Y: 15.000\n",
      "Interpretation: Positive covariance: As X increases, Y also tends to increase.\n"
     ]
    }
   ],
   "source": [
    "import numpy as np\n",
    "x = [2, 4, 6, 8, 10]  \n",
    "y = [3, 6, 9, 12, 15] \n",
    "cov_matrix = np.cov(x, y, bias=False) \n",
    "cov_xy = cov_matrix[0, 1]\n",
    "print(f\"Covariance between X and Y: {cov_xy:.3f}\")\n",
    "if cov_xy > 0:\n",
    "    interpretation = \"Positive covariance: As X increases, Y also tends to increase.\"\n",
    "elif cov_xy < 0:\n",
    "    interpretation = \"Negative covariance: As X increases, Y tends to decrease.\"\n",
    "else:\n",
    "    interpretation = \"Zero covariance: No linear relationship between X and Y.\"\n",
    "print(f\"Interpretation: {interpretation}\")\n"
   ]
  }
 ],
 "metadata": {
  "kernelspec": {
   "display_name": "Python 3",
   "language": "python",
   "name": "python3"
  },
  "language_info": {
   "codemirror_mode": {
    "name": "ipython",
    "version": 3
   },
   "file_extension": ".py",
   "mimetype": "text/x-python",
   "name": "python",
   "nbconvert_exporter": "python",
   "pygments_lexer": "ipython3",
   "version": "3.12.5"
  }
 },
 "nbformat": 4,
 "nbformat_minor": 2
}
