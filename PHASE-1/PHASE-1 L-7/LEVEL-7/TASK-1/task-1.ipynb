{
 "cells": [
  {
   "cell_type": "code",
   "execution_count": null,
   "metadata": {},
   "outputs": [
    {
     "name": "stdout",
     "output_type": "stream",
     "text": [
      "Sample Mean: 49.9\n",
      "Z-score: -0.158\n",
      "P-value: 0.8744\n",
      "Decision: Fail to reject the null hypothesis: No significant difference.\n"
     ]
    }
   ],
   "source": [
    "import numpy as np\n",
    "from scipy.stats import norm\n",
    "sample = [52, 48, 50, 49, 51, 50, 53, 47, 49, 50]  \n",
    "population_mean = 50  \n",
    "population_std = 2  \n",
    "alpha = 0.05  \n",
    "sample_mean = np.mean(sample)\n",
    "sample_size = len(sample)\n",
    "z_score = (sample_mean - population_mean) / (population_std / np.sqrt(sample_size))\n",
    "p_value = 2 * (1 - norm.cdf(abs(z_score)))\n",
    "if p_value < alpha:\n",
    "    decision = \"Reject the null hypothesis: The sample mean is significantly different.\"\n",
    "else:\n",
    "    decision = \"Fail to reject the null hypothesis: No significant difference.\"\n",
    "print(f\"Sample Mean: {sample_mean}\")\n",
    "print(f\"Z-score: {z_score:.3f}\")\n",
    "print(f\"P-value: {p_value:.4f}\")\n",
    "print(f\"Decision: {decision}\")\n"
   ]
  }
 ],
 "metadata": {
  "kernelspec": {
   "display_name": "Python 3",
   "language": "python",
   "name": "python3"
  },
  "language_info": {
   "codemirror_mode": {
    "name": "ipython",
    "version": 3
   },
   "file_extension": ".py",
   "mimetype": "text/x-python",
   "name": "python",
   "nbconvert_exporter": "python",
   "pygments_lexer": "ipython3",
   "version": "3.12.5"
  }
 },
 "nbformat": 4,
 "nbformat_minor": 2
}
