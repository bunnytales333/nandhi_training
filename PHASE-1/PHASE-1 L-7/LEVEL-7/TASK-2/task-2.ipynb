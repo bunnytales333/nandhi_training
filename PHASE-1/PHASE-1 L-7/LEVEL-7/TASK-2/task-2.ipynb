{
 "cells": [
  {
   "cell_type": "code",
   "execution_count": null,
   "metadata": {},
   "outputs": [
    {
     "name": "stdout",
     "output_type": "stream",
     "text": [
      "Sample Mean 1: 49.9\n",
      "Sample Mean 2: 53.0\n",
      "Z-score: -2.719\n",
      "P-value: 0.0066\n",
      "Decision: Reject the null hypothesis: The two sample means are significantly different.\n"
     ]
    }
   ],
   "source": [
    "import numpy as np\n",
    "from scipy.stats import norm\n",
    "sample1 = [52, 48, 50, 49, 51, 50, 53, 47, 49, 50]\n",
    "sample2 = [55, 54, 56, 52, 53, 51, 54, 50, 52, 53]\n",
    "pop_std1 = 2  \n",
    "pop_std2 = 3  \n",
    "mean1, mean2 = np.mean(sample1), np.mean(sample2)\n",
    "n1, n2 = len(sample1), len(sample2)\n",
    "z_score = (mean1 - mean2) / np.sqrt((pop_std1 ** 2 / n1) + (pop_std2 ** 2 / n2))\n",
    "p_value = 2 * (1 - norm.cdf(abs(z_score)))\n",
    "alpha = 0.05  \n",
    "if p_value < alpha:\n",
    "    decision = \"Reject the null hypothesis: The two sample means are significantly different.\"\n",
    "else:\n",
    "    decision = \"Fail to reject the null hypothesis: No significant difference between sample means.\"\n",
    "print(f\"Sample Mean 1: {mean1}\")\n",
    "print(f\"Sample Mean 2: {mean2}\")\n",
    "print(f\"Z-score: {z_score:.3f}\")\n",
    "print(f\"P-value: {p_value:.4f}\")\n",
    "print(f\"Decision: {decision}\")\n"
   ]
  }
 ],
 "metadata": {
  "kernelspec": {
   "display_name": "Python 3",
   "language": "python",
   "name": "python3"
  },
  "language_info": {
   "codemirror_mode": {
    "name": "ipython",
    "version": 3
   },
   "file_extension": ".py",
   "mimetype": "text/x-python",
   "name": "python",
   "nbconvert_exporter": "python",
   "pygments_lexer": "ipython3",
   "version": "3.12.5"
  }
 },
 "nbformat": 4,
 "nbformat_minor": 2
}
