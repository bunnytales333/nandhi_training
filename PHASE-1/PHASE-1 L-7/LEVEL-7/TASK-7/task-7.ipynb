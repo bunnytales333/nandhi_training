{
 "cells": [
  {
   "cell_type": "code",
   "execution_count": null,
   "metadata": {},
   "outputs": [
    {
     "name": "stdout",
     "output_type": "stream",
     "text": [
      "Simulated Probability: 0.627\n",
      "Theoretical Probability: 0.600\n",
      "The simulated probability is close to the theoretical value, as expected.\n"
     ]
    }
   ],
   "source": [
    "import numpy as np\n",
    "p = 0.6  \n",
    "n = 1000  \n",
    "trials = np.random.binomial(1, p, n)  \n",
    "simulated_p = np.mean(trials)  \n",
    "print(f\"Simulated Probability: {simulated_p:.3f}\")\n",
    "print(f\"Theoretical Probability: {p:.3f}\")\n",
    "if abs(simulated_p - p) < 0.05:\n",
    "    print(\"The simulated probability is close to the theoretical value, as expected.\")\n",
    "else:\n",
    "    print(\"The simulated probability deviates significantly, possibly due to random variation.\")\n"
   ]
  }
 ],
 "metadata": {
  "kernelspec": {
   "display_name": "Python 3",
   "language": "python",
   "name": "python3"
  },
  "language_info": {
   "codemirror_mode": {
    "name": "ipython",
    "version": 3
   },
   "file_extension": ".py",
   "mimetype": "text/x-python",
   "name": "python",
   "nbconvert_exporter": "python",
   "pygments_lexer": "ipython3",
   "version": "3.12.5"
  }
 },
 "nbformat": 4,
 "nbformat_minor": 2
}
