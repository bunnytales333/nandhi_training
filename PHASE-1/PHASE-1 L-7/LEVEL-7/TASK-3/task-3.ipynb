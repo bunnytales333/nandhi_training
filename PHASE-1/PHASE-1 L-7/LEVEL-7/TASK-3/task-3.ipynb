{
 "cells": [
  {
   "cell_type": "code",
   "execution_count": null,
   "metadata": {},
   "outputs": [
    {
     "name": "stdout",
     "output_type": "stream",
     "text": [
      "Sample Mean: 49.9\n",
      "T-score: -0.176\n",
      "P-value: 0.8638\n",
      "Decision: Fail to reject the null hypothesis: No significant difference.\n"
     ]
    }
   ],
   "source": [
    "import numpy as np\n",
    "from scipy.stats import ttest_1samp\n",
    "sample = [52, 48, 50, 49, 51, 50, 53, 47, 49, 50]  \n",
    "population_mean = 50 \n",
    "alpha = 0.05 \n",
    "t_statistic, p_value = ttest_1samp(sample, population_mean)\n",
    "if p_value < alpha:\n",
    "    decision = \"Reject the null hypothesis: The sample mean is significantly different.\"\n",
    "else:\n",
    "    decision = \"Fail to reject the null hypothesis: No significant difference.\"\n",
    "print(f\"Sample Mean: {np.mean(sample)}\")\n",
    "print(f\"T-score: {t_statistic:.3f}\")\n",
    "print(f\"P-value: {p_value:.4f}\")\n",
    "print(f\"Decision: {decision}\")\n"
   ]
  }
 ],
 "metadata": {
  "kernelspec": {
   "display_name": "Python 3",
   "language": "python",
   "name": "python3"
  },
  "language_info": {
   "codemirror_mode": {
    "name": "ipython",
    "version": 3
   },
   "file_extension": ".py",
   "mimetype": "text/x-python",
   "name": "python",
   "nbconvert_exporter": "python",
   "pygments_lexer": "ipython3",
   "version": "3.12.5"
  }
 },
 "nbformat": 4,
 "nbformat_minor": 2
}
