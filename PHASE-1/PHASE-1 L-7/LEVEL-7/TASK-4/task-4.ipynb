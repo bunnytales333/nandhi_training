{
 "cells": [
  {
   "cell_type": "code",
   "execution_count": null,
   "metadata": {},
   "outputs": [
    {
     "name": "stdout",
     "output_type": "stream",
     "text": [
      "Chi-Square Statistic: 5.000\n",
      "P-value: 0.0821\n",
      "Decision: Fail to reject the null hypothesis: No significant difference between observed and expected.\n"
     ]
    }
   ],
   "source": [
    "import numpy as np\n",
    "from scipy.stats import chisquare\n",
    "observed = np.array([50, 30, 20])  \n",
    "expected = np.array([40, 40, 20])  \n",
    "chi2_stat, p_value = chisquare(observed, expected)\n",
    "alpha = 0.05  \n",
    "if p_value < alpha:\n",
    "    decision = \"Reject the null hypothesis: The observed distribution is significantly different.\"\n",
    "else:\n",
    "    decision = \"Fail to reject the null hypothesis: No significant difference between observed and expected.\"\n",
    "print(f\"Chi-Square Statistic: {chi2_stat:.3f}\")\n",
    "print(f\"P-value: {p_value:.4f}\")\n",
    "print(f\"Decision: {decision}\")\n"
   ]
  }
 ],
 "metadata": {
  "kernelspec": {
   "display_name": "Python 3",
   "language": "python",
   "name": "python3"
  },
  "language_info": {
   "codemirror_mode": {
    "name": "ipython",
    "version": 3
   },
   "file_extension": ".py",
   "mimetype": "text/x-python",
   "name": "python",
   "nbconvert_exporter": "python",
   "pygments_lexer": "ipython3",
   "version": "3.12.5"
  }
 },
 "nbformat": 4,
 "nbformat_minor": 2
}
