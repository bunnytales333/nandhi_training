{
 "cells": [
  {
   "cell_type": "code",
   "execution_count": 1,
   "metadata": {},
   "outputs": [
    {
     "name": "stdout",
     "output_type": "stream",
     "text": [
      "Pearson Correlation: 1.000, p-value: 0.0000\n",
      "Spearman Correlation: 1.000, p-value: 0.0000\n",
      "Comparison: Pearson and Spearman correlations are similar, indicating a linear relationship.\n"
     ]
    }
   ],
   "source": [
    "import numpy as np\n",
    "from scipy.stats import pearsonr, spearmanr\n",
    "x = [10, 20, 30, 40, 50]  \n",
    "y = [15, 25, 35, 45, 55]   \n",
    "pearson_corr, pearson_p = pearsonr(x, y)\n",
    "spearman_corr, spearman_p = spearmanr(x, y)\n",
    "print(f\"Pearson Correlation: {pearson_corr:.3f}, p-value: {pearson_p:.4f}\")\n",
    "print(f\"Spearman Correlation: {spearman_corr:.3f}, p-value: {spearman_p:.4f}\")\n",
    "if abs(pearson_corr - spearman_corr) < 0.1:\n",
    "    comparison = \"Pearson and Spearman correlations are similar, indicating a linear relationship.\"\n",
    "else:\n",
    "    comparison = \"Pearson and Spearman correlations differ, suggesting a non-linear or monotonic relationship.\"\n",
    "\n",
    "print(f\"Comparison: {comparison}\")\n"
   ]
  }
 ],
 "metadata": {
  "kernelspec": {
   "display_name": "Python 3",
   "language": "python",
   "name": "python3"
  },
  "language_info": {
   "codemirror_mode": {
    "name": "ipython",
    "version": 3
   },
   "file_extension": ".py",
   "mimetype": "text/x-python",
   "name": "python",
   "nbconvert_exporter": "python",
   "pygments_lexer": "ipython3",
   "version": "3.12.5"
  }
 },
 "nbformat": 4,
 "nbformat_minor": 2
}
