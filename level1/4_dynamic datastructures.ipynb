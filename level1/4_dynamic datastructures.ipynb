{
 "cells": [
  {
   "cell_type": "code",
   "execution_count": 4,
   "metadata": {},
   "outputs": [
    {
     "name": "stdout",
     "output_type": "stream",
     "text": [
      "\n",
      "Completed dictionary: {'x': 1, 'y': 2, 'z': 3}\n"
     ]
    }
   ],
   "source": [
    "\n",
    "my_dict = {}\n",
    "for i in range(3):\n",
    "    key = input(\"Enter a key (string): \")\n",
    "    value = int(input(\"Enter a value (integer): \"))\n",
    "    my_dict[key] = value\n",
    "print(\"\\nCompleted dictionary:\", my_dict)\n"
   ]
  }
 ],
 "metadata": {
  "kernelspec": {
   "display_name": "Python 3",
   "language": "python",
   "name": "python3"
  },
  "language_info": {
   "codemirror_mode": {
    "name": "ipython",
    "version": 3
   },
   "file_extension": ".py",
   "mimetype": "text/x-python",
   "name": "python",
   "nbconvert_exporter": "python",
   "pygments_lexer": "ipython3",
   "version": "3.13.2"
  }
 },
 "nbformat": 4,
 "nbformat_minor": 2
}
