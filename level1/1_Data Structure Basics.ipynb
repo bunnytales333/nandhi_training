{
 "cells": [
  {
   "cell_type": "code",
   "execution_count": null,
   "metadata": {},
   "outputs": [
    {
     "name": "stdout",
     "output_type": "stream",
     "text": [
      "list: [1, 2, 3, 4]\n"
     ]
    }
   ],
   "source": [
    "my_list = [1, 2, 3]\n",
    "my_list.append(4)  \n",
    "print(\"list:\", my_list)"
   ]
  },
  {
   "cell_type": "code",
   "execution_count": 48,
   "metadata": {},
   "outputs": [
    {
     "name": "stdout",
     "output_type": "stream",
     "text": [
      "Even numbers set: {8, 2, 4, 6}\n",
      "2 is in the set\n",
      "3 is not in the set.\n",
      "True\n"
     ]
    }
   ],
   "source": [
    "even_numbers = {num for num in range(1, 10) if num % 2 == 0}\n",
    "print(\"Even numbers set:\", even_numbers)\n",
    "\n",
    "if 2 in even_numbers:\n",
    "    print(\"2 is in the set\")\n",
    "else:\n",
    "    print(\"2 is not in the set\")\n",
    "\n",
    "if 3 in even_numbers:\n",
    "    print(\"3 is in the set!\")\n",
    "else:\n",
    "    print(\"3 is not in the set.\")\n",
    "print(2 in my_set)\n",
    "\n",
    "\n"
   ]
  },
  {
   "cell_type": "code",
   "execution_count": null,
   "metadata": {},
   "outputs": [
    {
     "name": "stdout",
     "output_type": "stream",
     "text": [
      "Tuple with odd numbers: (1, 3, 5)\n"
     ]
    }
   ],
   "source": [
    "odd_numbers = tuple(num for num in range(1, 6) if num % 2 != 0)\n",
    "print(\"Tuple with odd numbers:\", odd_numbers)"
   ]
  },
  {
   "cell_type": "code",
   "execution_count": 53,
   "metadata": {},
   "outputs": [
    {
     "name": "stdout",
     "output_type": "stream",
     "text": [
      "Initial dictionary: {'A': 1, 'B': 2}\n",
      "Updated dictionary: {'A': 1, 'B': 2, 'C': 3}\n"
     ]
    }
   ],
   "source": [
    "my_dict = {\"A\": 1, \"B\": 2}\n",
    "print(\"Initial dictionary:\", my_dict)\n",
    "my_dict[\"C\"] = 3\n",
    "print(\"Updated dictionary:\", my_dict)\n",
    "\n"
   ]
  }
 ],
 "metadata": {
  "kernelspec": {
   "display_name": "Python 3",
   "language": "python",
   "name": "python3"
  },
  "language_info": {
   "codemirror_mode": {
    "name": "ipython",
    "version": 3
   },
   "file_extension": ".py",
   "mimetype": "text/x-python",
   "name": "python",
   "nbconvert_exporter": "python",
   "pygments_lexer": "ipython3",
   "version": "3.13.2"
  }
 },
 "nbformat": 4,
 "nbformat_minor": 2
}
